{
 "cells": [
  {
   "cell_type": "code",
   "execution_count": 1,
   "id": "617c034e",
   "metadata": {},
   "outputs": [
    {
     "name": "stdout",
     "output_type": "stream",
     "text": [
      "(10, 8)\n",
      "['rti_number', 'gti_number', 'title_text', 'chap_titles_text', 'meta_text', 'lang_title', 'lang_chapters', 'lang_rti']\n",
      "  rti_number gti_number               title_text     chap_titles_text meta_text lang_title lang_chapters lang_rti\n",
      "0     RTI001     GTI001   Hydraulic Pump Failure  Failure Description    8 | QA         en            en       en\n",
      "1     RTI002     GTI001  Hydraulic Pressure Drop             Symptoms    5 | QC         en            en       en\n",
      "2     RTI003     GTI002   Avionics Cooling Issue                         2 | QA         en          None       en\n"
     ]
    }
   ],
   "source": [
    "# To see views.parquet\n",
    "import pandas as pd\n",
    "df = pd.read_parquet(\"../data/processed/views.parquet\")\n",
    "print(df.shape)                # (nb_rtis, 5)\n",
    "print(df.columns.tolist())     # ['rti_number','gti_number','title_text','chap_titles_text','meta_text']\n",
    "print(df.head(3).to_string())\n"
   ]
  },
  {
   "cell_type": "code",
   "execution_count": 9,
   "id": "3a9e91d4",
   "metadata": {},
   "outputs": [
    {
     "name": "stdout",
     "output_type": "stream",
     "text": [
      "['passage: title: Hydraulic Pump Failure Hydraulic Pump Failure \\nchapters: Failure Description \\nmeta: 8 | QA', 'passage: title: Hydraulic Pressure Drop Hydraulic Pressure Drop \\nchapters: Symptoms \\nmeta: 5 | QC']\n"
     ]
    }
   ],
   "source": [
    "import sys, os\n",
    "# depuis research/, on remonte d’un cran et on ajoute src\n",
    "sys.path.append(os.path.abspath(os.path.join(\"..\", \"src\")))\n",
    "\n",
    "from rti_sim.embedding.textcraft import build_embedding_text\n",
    "import pandas as pd\n",
    "\n",
    "df = pd.read_parquet(\"../data/processed/views.parquet\")\n",
    "s = build_embedding_text(df)\n",
    "print(s.head(2).tolist())\n"
   ]
  },
  {
   "cell_type": "code",
   "execution_count": 12,
   "id": "3e795612",
   "metadata": {},
   "outputs": [
    {
     "name": "stderr",
     "output_type": "stream",
     "text": [
      "c:\\Users\\Mehdi\\AppData\\Local\\Programs\\Python\\Python38\\lib\\site-packages\\sentence_transformers\\cross_encoder\\CrossEncoder.py:13: TqdmExperimentalWarning: Using `tqdm.autonotebook.tqdm` in notebook mode. Use `tqdm.tqdm` instead to force console mode (e.g. in jupyter console)\n",
      "  from tqdm.autonotebook import tqdm, trange\n",
      "c:\\Users\\Mehdi\\AppData\\Local\\Programs\\Python\\Python38\\lib\\site-packages\\torchvision\\io\\image.py:13: UserWarning: Failed to load image Python extension: '[WinError 127] La procédure spécifiée est introuvable'If you don't plan on using image functionality from `torchvision.io`, you can ignore this warning. Otherwise, there might be something wrong with your environment. Did you have `libjpeg` or `libpng` installed before building `torchvision` from source?\n",
      "  warn(\n",
      "c:\\Users\\Mehdi\\AppData\\Local\\Programs\\Python\\Python38\\lib\\site-packages\\torchvision\\datapoints\\__init__.py:12: UserWarning: The torchvision.datapoints and torchvision.transforms.v2 namespaces are still Beta. While we do not expect major breaking changes, some APIs may still change according to user feedback. Please submit any feedback you may have in this issue: https://github.com/pytorch/vision/issues/6753, and you can also check out https://github.com/pytorch/vision/issues/7319 to learn more about the APIs that we suspect might involve future changes. You can silence this warning by calling torchvision.disable_beta_transforms_warning().\n",
      "  warnings.warn(_BETA_TRANSFORMS_WARNING)\n",
      "c:\\Users\\Mehdi\\AppData\\Local\\Programs\\Python\\Python38\\lib\\site-packages\\torchvision\\transforms\\v2\\__init__.py:54: UserWarning: The torchvision.datapoints and torchvision.transforms.v2 namespaces are still Beta. While we do not expect major breaking changes, some APIs may still change according to user feedback. Please submit any feedback you may have in this issue: https://github.com/pytorch/vision/issues/6753, and you can also check out https://github.com/pytorch/vision/issues/7319 to learn more about the APIs that we suspect might involve future changes. You can silence this warning by calling torchvision.disable_beta_transforms_warning().\n",
      "  warnings.warn(_BETA_TRANSFORMS_WARNING)\n"
     ]
    },
    {
     "data": {
      "application/vnd.jupyter.widget-view+json": {
       "model_id": "6eb4c93ea31749ef94931156934ef4bd",
       "version_major": 2,
       "version_minor": 0
      },
      "text/plain": [
       "Batches:   0%|          | 0/1 [00:00<?, ?it/s]"
      ]
     },
     "metadata": {},
     "output_type": "display_data"
    },
    {
     "name": "stdout",
     "output_type": "stream",
     "text": [
      "(10, 768)\n"
     ]
    }
   ],
   "source": [
    "from rti_sim.embedding.encoder import TextEncoder\n",
    "enc = TextEncoder(\"intfloat/multilingual-e5-base\", device=\"auto\", normalize=True, batch_size=64)\n",
    "vecs = enc.encode(s.tolist())\n",
    "print(vecs.shape)  # (N, d)\n"
   ]
  },
  {
   "cell_type": "code",
   "execution_count": 13,
   "id": "a07cf636",
   "metadata": {},
   "outputs": [
    {
     "data": {
      "text/plain": [
       "array([[ 0.01354055,  0.01274305, -0.02883781, ..., -0.04925426,\n",
       "        -0.03922504,  0.03981287],\n",
       "       [ 0.00403146,  0.03340651, -0.02382699, ..., -0.04250335,\n",
       "        -0.04505576,  0.06114832],\n",
       "       [-0.00563614,  0.02758808, -0.0073838 , ..., -0.02724185,\n",
       "        -0.05500587,  0.03793624],\n",
       "       ...,\n",
       "       [-0.01012027,  0.04143563, -0.02608121, ..., -0.03080353,\n",
       "        -0.02408315,  0.05187466],\n",
       "       [-0.00991028,  0.0251252 , -0.01182845, ..., -0.03916492,\n",
       "        -0.02931739,  0.03451868],\n",
       "       [ 0.0085158 ,  0.03769193, -0.01580486, ..., -0.04864909,\n",
       "        -0.06883626,  0.03085272]], dtype=float32)"
      ]
     },
     "execution_count": 13,
     "metadata": {},
     "output_type": "execute_result"
    }
   ],
   "source": [
    "vecs"
   ]
  },
  {
   "cell_type": "code",
   "execution_count": 15,
   "id": "aaa37307",
   "metadata": {},
   "outputs": [
    {
     "name": "stdout",
     "output_type": "stream",
     "text": [
      "[('RTI001', 'GTI001', 'RTI002', 'GTI001'), ('RTI002', 'GTI001', 'RTI001', 'GTI001'), ('RTI003', 'GTI002', 'RTI007', 'GTI004'), ('RTI004', 'GTI002', 'RTI003', 'GTI002'), ('RTI005', 'GTI003', 'RTI003', 'GTI002'), ('RTI006', 'GTI003', 'RTI005', 'GTI003'), ('RTI007', 'GTI004', 'RTI003', 'GTI002'), ('RTI008', 'GTI004', 'RTI007', 'GTI004'), ('RTI009', 'GTI005', 'RTI003', 'GTI002'), ('RTI010', 'GTI005', 'RTI005', 'GTI003')]\n"
     ]
    }
   ],
   "source": [
    "import numpy as np, pandas as pd\n",
    "\n",
    "E = np.load(\"../artifacts/catalog_embeddings.npy\")          # (10, 768)\n",
    "M = pd.read_parquet(\"../artifacts/catalog_meta.parquet\")    # 10 rows\n",
    "assert E.shape[0] == len(M)                              # row alignment check\n",
    "\n",
    "# cosine sims (normalized embeddings → dot = cosine)\n",
    "S = E @ E.T\n",
    "np.fill_diagonal(S, 0.0)\n",
    "top1 = S.argmax(axis=1)\n",
    "print(list(zip(M[\"rti_number\"], M[\"gti_number\"], M[\"rti_number\"].iloc[top1], M[\"gti_number\"].iloc[top1])))\n"
   ]
  },
  {
   "cell_type": "code",
   "execution_count": 18,
   "id": "b85870ef",
   "metadata": {},
   "outputs": [
    {
     "name": "stdout",
     "output_type": "stream",
     "text": [
      "   query_rti candidate_rti candidate_gti     score  rank\n",
      "0     RTI001        RTI001        GTI001  1.000000     1\n",
      "1     RTI001        RTI002        GTI001  0.944955     2\n",
      "2     RTI001        RTI006        GTI003  0.914715     3\n",
      "3     RTI001        RTI007        GTI004  0.909822     4\n",
      "4     RTI001        RTI005        GTI003  0.906522     5\n",
      "5     RTI002        RTI002        GTI001  1.000000     1\n",
      "6     RTI002        RTI001        GTI001  0.944955     2\n",
      "7     RTI002        RTI006        GTI003  0.920350     3\n",
      "8     RTI002        RTI007        GTI004  0.917593     4\n",
      "9     RTI002        RTI003        GTI002  0.910416     5\n",
      "10    RTI003        RTI003        GTI002  1.000000     1\n",
      "11    RTI003        RTI007        GTI004  0.936470     2\n",
      "12    RTI003        RTI005        GTI003  0.933283     3\n",
      "13    RTI003        RTI008        GTI004  0.929737     4\n",
      "14    RTI003        RTI004        GTI002  0.925774     5\n",
      "15    RTI004        RTI004        GTI002  1.000000     1\n",
      "16    RTI004        RTI003        GTI002  0.925774     2\n",
      "17    RTI004        RTI006        GTI003  0.912501     3\n",
      "18    RTI004        RTI010        GTI005  0.903339     4\n",
      "19    RTI004        RTI002        GTI001  0.903109     5\n",
      "20    RTI005        RTI005        GTI003  1.000000     1\n",
      "21    RTI005        RTI003        GTI002  0.933283     2\n",
      "22    RTI005        RTI006        GTI003  0.932738     3\n",
      "23    RTI005        RTI007        GTI004  0.930354     4\n",
      "24    RTI005        RTI010        GTI005  0.927518     5\n",
      "25    RTI006        RTI006        GTI003  1.000000     1\n",
      "26    RTI006        RTI005        GTI003  0.932738     2\n",
      "27    RTI006        RTI007        GTI004  0.922877     3\n",
      "28    RTI006        RTI003        GTI002  0.921371     4\n",
      "29    RTI006        RTI002        GTI001  0.920350     5\n",
      "30    RTI007        RTI007        GTI004  1.000000     1\n",
      "31    RTI007        RTI003        GTI002  0.936470     2\n",
      "32    RTI007        RTI008        GTI004  0.931411     3\n",
      "33    RTI007        RTI005        GTI003  0.930354     4\n",
      "34    RTI007        RTI006        GTI003  0.922877     5\n",
      "35    RTI008        RTI008        GTI004  1.000000     1\n",
      "36    RTI008        RTI007        GTI004  0.931411     2\n",
      "37    RTI008        RTI003        GTI002  0.929737     3\n",
      "38    RTI008        RTI006        GTI003  0.916671     4\n",
      "39    RTI008        RTI005        GTI003  0.916153     5\n",
      "40    RTI009        RTI009        GTI005  1.000000     1\n",
      "41    RTI009        RTI003        GTI002  0.908501     2\n",
      "42    RTI009        RTI005        GTI003  0.903151     3\n",
      "43    RTI009        RTI002        GTI001  0.900801     4\n",
      "44    RTI009        RTI004        GTI002  0.898297     5\n",
      "45    RTI010        RTI010        GTI005  1.000000     1\n",
      "46    RTI010        RTI005        GTI003  0.927518     2\n",
      "47    RTI010        RTI006        GTI003  0.916339     3\n",
      "48    RTI010        RTI003        GTI002  0.914769     4\n",
      "49    RTI010        RTI007        GTI004  0.906564     5\n"
     ]
    }
   ],
   "source": [
    "import pandas as pd\n",
    "df = pd.read_parquet(\"../out/neighbors.parquet\")\n",
    "print(df.to_string())\n",
    "# columns: query_rti, candidate_rti, candidate_gti, score, rank\n"
   ]
  },
  {
   "cell_type": "code",
   "execution_count": 1,
   "id": "93df8cc1",
   "metadata": {},
   "outputs": [
    {
     "name": "stdout",
     "output_type": "stream",
     "text": [
      "cluster_id\n",
      "0    1\n",
      "1    6\n",
      "2    2\n",
      "3    1\n",
      "dtype: int64\n",
      "  rti_number gti_number  cluster_id  sim_to_centroid\n",
      "0     RTI001     GTI001           2         0.986143\n",
      "1     RTI002     GTI001           2         0.986143\n",
      "2     RTI003     GTI002           1         0.971746\n",
      "3     RTI004     GTI002           0         1.000000\n",
      "4     RTI005     GTI003           1         0.972507\n",
      "centroids: (4, 768)\n",
      "{'algorithm': 'kmeans', 'k': 4, 'random_state': 42, 'max_iter': 300, 'silhouette_euclid': 0.07928554713726044, 'davies_bouldin': 1.0461160335680513, 'n': 10, 'd': 768}\n",
      "  rti_number  assigned_cluster     score  rank\n",
      "0     RTI001                 2  0.986143     1\n",
      "1     RTI002                 2  0.986143     1\n",
      "2     RTI003                 1  0.971746     1\n",
      "3     RTI004                 0  1.000000     1\n",
      "4     RTI005                 1  0.972507     1\n"
     ]
    }
   ],
   "source": [
    "import pandas as pd, numpy as np, json\n",
    "a = pd.read_parquet(\"../artifacts/cluster_assignments.parquet\")\n",
    "print(a.groupby(\"cluster_id\").size())\n",
    "print(a.head().to_string())\n",
    "\n",
    "C = np.load(\"../artifacts/cluster_centroids.npy\")\n",
    "print(\"centroids:\", C.shape)\n",
    "\n",
    "print(json.load(open(\"../artifacts/cluster_meta.json\")))\n",
    "b = pd.read_parquet(\"../out/cluster_assignments_new.parquet\")\n",
    "print(b.head().to_string())\n"
   ]
  },
  {
   "cell_type": "code",
   "execution_count": 2,
   "id": "4f5b6360",
   "metadata": {},
   "outputs": [
    {
     "name": "stdout",
     "output_type": "stream",
     "text": [
      "['cluster_id', 'size', 'avg_sim', 'major_gti', 'purity', 'top_terms', 'exemplars']\n",
      "   cluster_id  size major_gti    purity   avg_sim\n",
      "0           0     1    GTI002  1.000000  1.000000\n",
      "1           1     6    GTI003  0.333333  0.966582\n",
      "2           2     2    GTI001  1.000000  0.986143\n",
      "3           3     1    GTI005  1.000000  1.000000\n"
     ]
    }
   ],
   "source": [
    "import pandas as pd, json\n",
    "s = pd.read_parquet(\"../artifacts/cluster_summary.parquet\")\n",
    "print(s.columns.tolist())\n",
    "print(s[[\"cluster_id\",\"size\",\"major_gti\",\"purity\",\"avg_sim\"]].head().to_string())\n",
    "\n",
    "d = pd.read_parquet(\"../artifacts/cluster_gti_distribution.parquet\")\n",
    "assert {\"cluster_id\",\"gti_number\",\"count\",\"pct\"} <= set(d.columns)"
   ]
  }
 ],
 "metadata": {
  "kernelspec": {
   "display_name": "Python 3",
   "language": "python",
   "name": "python3"
  },
  "language_info": {
   "codemirror_mode": {
    "name": "ipython",
    "version": 3
   },
   "file_extension": ".py",
   "mimetype": "text/x-python",
   "name": "python",
   "nbconvert_exporter": "python",
   "pygments_lexer": "ipython3",
   "version": "3.8.0"
  }
 },
 "nbformat": 4,
 "nbformat_minor": 5
}
