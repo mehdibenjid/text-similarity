{
 "cells": [
  {
   "cell_type": "code",
   "execution_count": 1,
   "id": "617c034e",
   "metadata": {},
   "outputs": [
    {
     "name": "stdout",
     "output_type": "stream",
     "text": [
      "(10, 8)\n",
      "['rti_number', 'gti_number', 'title_text', 'chap_titles_text', 'meta_text', 'lang_title', 'lang_chapters', 'lang_rti']\n",
      "  rti_number gti_number               title_text     chap_titles_text meta_text lang_title lang_chapters lang_rti\n",
      "0     RTI001     GTI001   Hydraulic Pump Failure  Failure Description    8 | QA         en            en       en\n",
      "1     RTI002     GTI001  Hydraulic Pressure Drop             Symptoms    5 | QC         en            en       en\n",
      "2     RTI003     GTI002   Avionics Cooling Issue                         2 | QA         en          None       en\n"
     ]
    }
   ],
   "source": [
    "# To see views.parquet\n",
    "import pandas as pd\n",
    "df = pd.read_parquet(\"../data/processed/views.parquet\")\n",
    "print(df.shape)                # (nb_rtis, 5)\n",
    "print(df.columns.tolist())     # ['rti_number','gti_number','title_text','chap_titles_text','meta_text']\n",
    "print(df.head(3).to_string())\n"
   ]
  },
  {
   "cell_type": "code",
   "execution_count": null,
   "id": "3a9e91d4",
   "metadata": {},
   "outputs": [],
   "source": []
  }
 ],
 "metadata": {
  "kernelspec": {
   "display_name": "Python 3",
   "language": "python",
   "name": "python3"
  },
  "language_info": {
   "codemirror_mode": {
    "name": "ipython",
    "version": 3
   },
   "file_extension": ".py",
   "mimetype": "text/x-python",
   "name": "python",
   "nbconvert_exporter": "python",
   "pygments_lexer": "ipython3",
   "version": "3.8.0"
  }
 },
 "nbformat": 4,
 "nbformat_minor": 5
}
